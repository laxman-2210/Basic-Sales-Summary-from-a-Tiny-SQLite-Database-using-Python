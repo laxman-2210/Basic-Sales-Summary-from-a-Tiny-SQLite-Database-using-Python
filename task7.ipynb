{
 "cells": [
  {
   "cell_type": "code",
   "execution_count": 1,
   "id": "a7b5331e",
   "metadata": {},
   "outputs": [
    {
     "name": "stdout",
     "output_type": "stream",
     "text": [
      "Collecting mysql-connector-python\n",
      "  Downloading mysql_connector_python-9.3.0-cp312-cp312-win_amd64.whl.metadata (7.7 kB)\n",
      "Downloading mysql_connector_python-9.3.0-cp312-cp312-win_amd64.whl (16.4 MB)\n",
      "   ---------------------------------------- 0.0/16.4 MB ? eta -:--:--\n",
      "    --------------------------------------- 0.3/16.4 MB ? eta -:--:--\n",
      "   - -------------------------------------- 0.5/16.4 MB 1.5 MB/s eta 0:00:11\n",
      "   - -------------------------------------- 0.8/16.4 MB 1.5 MB/s eta 0:00:11\n",
      "   -- ------------------------------------- 1.0/16.4 MB 1.5 MB/s eta 0:00:11\n",
      "   --- ------------------------------------ 1.6/16.4 MB 1.6 MB/s eta 0:00:09\n",
      "   ----- ---------------------------------- 2.1/16.4 MB 1.9 MB/s eta 0:00:08\n",
      "   ------ --------------------------------- 2.6/16.4 MB 1.9 MB/s eta 0:00:08\n",
      "   ------- -------------------------------- 2.9/16.4 MB 1.9 MB/s eta 0:00:07\n",
      "   ------- -------------------------------- 3.1/16.4 MB 1.9 MB/s eta 0:00:08\n",
      "   -------- ------------------------------- 3.4/16.4 MB 1.8 MB/s eta 0:00:08\n",
      "   --------- ------------------------------ 3.9/16.4 MB 1.7 MB/s eta 0:00:08\n",
      "   ---------- ----------------------------- 4.2/16.4 MB 1.7 MB/s eta 0:00:08\n",
      "   ---------- ----------------------------- 4.5/16.4 MB 1.7 MB/s eta 0:00:08\n",
      "   ----------- ---------------------------- 4.7/16.4 MB 1.7 MB/s eta 0:00:08\n",
      "   ------------ --------------------------- 5.0/16.4 MB 1.7 MB/s eta 0:00:07\n",
      "   ------------- -------------------------- 5.5/16.4 MB 1.7 MB/s eta 0:00:07\n",
      "   --------------- ------------------------ 6.3/16.4 MB 1.8 MB/s eta 0:00:06\n",
      "   ---------------- ----------------------- 6.8/16.4 MB 1.9 MB/s eta 0:00:06\n",
      "   ------------------ --------------------- 7.6/16.4 MB 2.0 MB/s eta 0:00:05\n",
      "   ------------------- -------------------- 8.1/16.4 MB 2.0 MB/s eta 0:00:05\n",
      "   --------------------- ------------------ 8.7/16.4 MB 2.0 MB/s eta 0:00:04\n",
      "   ----------------------- ---------------- 9.4/16.4 MB 2.1 MB/s eta 0:00:04\n",
      "   ------------------------ --------------- 10.2/16.4 MB 2.2 MB/s eta 0:00:03\n",
      "   -------------------------- ------------- 10.7/16.4 MB 2.2 MB/s eta 0:00:03\n",
      "   --------------------------- ------------ 11.3/16.4 MB 2.2 MB/s eta 0:00:03\n",
      "   ---------------------------- ----------- 11.5/16.4 MB 2.2 MB/s eta 0:00:03\n",
      "   ----------------------------- ---------- 12.1/16.4 MB 2.2 MB/s eta 0:00:02\n",
      "   ------------------------------ --------- 12.3/16.4 MB 2.2 MB/s eta 0:00:02\n",
      "   ------------------------------ --------- 12.6/16.4 MB 2.1 MB/s eta 0:00:02\n",
      "   -------------------------------- ------- 13.1/16.4 MB 2.1 MB/s eta 0:00:02\n",
      "   --------------------------------- ------ 13.9/16.4 MB 2.2 MB/s eta 0:00:02\n",
      "   ---------------------------------- ----- 14.2/16.4 MB 2.2 MB/s eta 0:00:02\n",
      "   ----------------------------------- ---- 14.7/16.4 MB 2.2 MB/s eta 0:00:01\n",
      "   ------------------------------------- -- 15.5/16.4 MB 2.2 MB/s eta 0:00:01\n",
      "   ---------------------------------------  16.0/16.4 MB 2.2 MB/s eta 0:00:01\n",
      "   ---------------------------------------- 16.4/16.4 MB 2.2 MB/s eta 0:00:00\n",
      "Installing collected packages: mysql-connector-python\n",
      "Successfully installed mysql-connector-python-9.3.0\n"
     ]
    }
   ],
   "source": [
    "!pip install mysql-connector-python\n"
   ]
  },
  {
   "cell_type": "code",
   "execution_count": null,
   "id": "062e32cf",
   "metadata": {},
   "outputs": [],
   "source": [
    "import mysql.connector\n",
    "import pandas as pd\n",
    "import matplotlib.pyplot as plt\n",
    "conn = mysql.connector.connect(\n",
    "    host=\"localhost\",    \n",
    "    port=3306,          \n",
    "    user=\"root\",      \n",
    "    password=\"Laxman22\",   \n",
    "    database=\"internship\"     \n",
    ")\n"
   ]
  },
  {
   "cell_type": "code",
   "execution_count": null,
   "id": "f2fb79f2",
   "metadata": {},
   "outputs": [
    {
     "name": "stdout",
     "output_type": "stream",
     "text": [
      "[('online_sales_dataset',)]\n"
     ]
    },
    {
     "data": {
      "text/plain": [
       "True"
      ]
     },
     "execution_count": 9,
     "metadata": {},
     "output_type": "execute_result"
    }
   ],
   "source": [
    "cursor = conn.cursor()\n",
    "cursor.execute(\"SHOW TABLES;\")\n",
    "tables = cursor.fetchall()\n",
    "print(tables)  \n",
    "cursor.close()\n"
   ]
  },
  {
   "cell_type": "code",
   "execution_count": 10,
   "id": "6e49497b",
   "metadata": {},
   "outputs": [],
   "source": [
    "query = \"\"\"\n",
    "SELECT \n",
    "    description,\n",
    "    AVG(`unit price`) AS avg_unit_price,\n",
    "    SUM(quantity) AS total_qty,\n",
    "    SUM(`total cost`) AS total_revenue,\n",
    "    SUM(`shipping cost`) AS total_shipping_cost\n",
    "FROM `online_sales_dataset`\n",
    "GROUP BY description\n",
    "\"\"\"\n"
   ]
  },
  {
   "cell_type": "code",
   "execution_count": 11,
   "id": "207e38c1",
   "metadata": {},
   "outputs": [
    {
     "name": "stdout",
     "output_type": "stream",
     "text": [
      "[('InvoiceNo', 'int', 'YES', '', None, ''), ('Product ID', 'text', 'YES', '', None, ''), ('Description', 'text', 'YES', '', None, ''), ('Quantity', 'int', 'YES', '', None, ''), ('Date', 'text', 'YES', '', None, ''), ('UnitPrice', 'double', 'YES', '', None, ''), ('CustomerID', 'text', 'YES', '', None, ''), ('Country', 'text', 'YES', '', None, ''), ('PaymentMethod', 'text', 'YES', '', None, ''), ('ShippingCost', 'text', 'YES', '', None, ''), ('SalesChannel', 'text', 'YES', '', None, ''), ('ShipmentProvider', 'text', 'YES', '', None, ''), ('WarehouseLocation', 'text', 'YES', '', None, ''), ('Total cost', 'double', 'YES', '', None, '')]\n"
     ]
    },
    {
     "data": {
      "text/plain": [
       "True"
      ]
     },
     "execution_count": 11,
     "metadata": {},
     "output_type": "execute_result"
    }
   ],
   "source": [
    "cursor = conn.cursor()\n",
    "cursor.execute(\"DESCRIBE online_sales_dataset;\")\n",
    "columns = cursor.fetchall()\n",
    "print(columns)\n",
    "cursor.close()\n"
   ]
  },
  {
   "cell_type": "code",
   "execution_count": 22,
   "id": "02455fce",
   "metadata": {},
   "outputs": [
    {
     "name": "stdout",
     "output_type": "stream",
     "text": [
      "       description  avg_unit_price  total_qty  total_revenue  \\\n",
      "0        White Mug       47.250093     2525.0        6797.05   \n",
      "1       Headphones       44.711800     2133.0        6180.93   \n",
      "2        Desk Lamp       46.810139     1525.0        4553.71   \n",
      "3        USB Cable       46.715000     1814.0        5646.44   \n",
      "4     Office Chair       51.183030     2518.0        6655.74   \n",
      "5         Notebook       47.088427     1891.0        5618.25   \n",
      "6   Wireless Mouse       46.485889     2420.0        5771.02   \n",
      "7         Blue Pen       49.290976     2014.0        5424.82   \n",
      "8       Wall Clock       42.641028     2268.0        6321.85   \n",
      "9          T-shirt       43.160388     2430.0        6213.00   \n",
      "10        Backpack       47.165104     2186.0        6167.87   \n",
      "\n",
      "    avg_shipping_cost  approx_profit  revenue_per_unit  \n",
      "0           16.273738        5055.76          2.691901  \n",
      "1           17.097500        4471.18          2.897764  \n",
      "2           16.435833        3370.33          2.986039  \n",
      "3           16.023222        4204.35          3.112701  \n",
      "4           16.046667        5067.12          2.643264  \n",
      "5           16.037978        4190.87          2.971047  \n",
      "6           17.636556        4183.73          2.384719  \n",
      "7           16.865366        4041.86          2.693555  \n",
      "8           16.441682        4562.59          2.787412  \n",
      "9           17.160000        4445.52          2.556790  \n",
      "10          17.083542        4527.85          2.821532  \n"
     ]
    },
    {
     "name": "stderr",
     "output_type": "stream",
     "text": [
      "C:\\Users\\yadav\\AppData\\Local\\Temp\\ipykernel_13524\\3632364858.py:14: UserWarning: pandas only supports SQLAlchemy connectable (engine/connection) or database string URI or sqlite3 DBAPI2 connection. Other DBAPI2 objects are not tested. Please consider using SQLAlchemy.\n",
      "  df = pd.read_sql(query, conn)\n"
     ]
    }
   ],
   "source": [
    "query = \"\"\"\n",
    "SELECT \n",
    "    description,\n",
    "    AVG(`unitprice`) AS avg_unit_price,\n",
    "    SUM(quantity) AS total_qty,\n",
    "    SUM(`total cost`) AS total_revenue,\n",
    "    AVG(`ShippingCost`) AS avg_shipping_cost,\n",
    "    SUM(`total cost`) - SUM(`ShippingCost`) AS approx_profit,\n",
    "    SUM(`total cost`) / SUM(quantity) AS revenue_per_unit\n",
    "FROM `online_sales_dataset`\n",
    "GROUP BY description\n",
    "\"\"\"\n",
    "\n",
    "df = pd.read_sql(query, conn)\n",
    "\n",
    "print(df)\n"
   ]
  },
  {
   "cell_type": "code",
   "execution_count": null,
   "id": "29108caa",
   "metadata": {},
   "outputs": [
    {
     "data": {
      "image/png": "[encoded data removed]",
      "text/plain": [
       "<Figure size 640x480 with 1 Axes>"
      ]
     },
     "metadata": {},
     "output_type": "display_data"
    }
   ],
   "source": [
    "import matplotlib.pyplot as plt\n",
    "ax = df.plot(kind='bar', x='description', y='total_revenue', legend=False)\n",
    "ax.set_xlabel(\"Product Description\")\n",
    "ax.set_ylabel(\"Total Revenue\")\n",
    "ax.set_title(\"Total Revenue by Product\")\n",
    "plt.tight_layout()\n",
    "plt.show()\n",
    "\n",
    "\n"
   ]
  }
 ],
 "metadata": {
  "kernelspec": {
   "display_name": "Python 3",
   "language": "python",
   "name": "python3"
  },
  "language_info": {
   "codemirror_mode": {
    "name": "ipython",
    "version": 3
   },
   "file_extension": ".py",
   "mimetype": "text/x-python",
   "name": "python",
   "nbconvert_exporter": "python",
   "pygments_lexer": "ipython3",
   "version": "3.12.7"
  }
 },
 "nbformat": 4,
 "nbformat_minor": 5
}
